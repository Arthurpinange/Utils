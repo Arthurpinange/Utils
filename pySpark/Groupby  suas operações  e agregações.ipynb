{
 "cells": [
  {
   "cell_type": "code",
   "execution_count": 1,
   "id": "b0530023",
   "metadata": {},
   "outputs": [
    {
     "name": "stderr",
     "output_type": "stream",
     "text": [
      "WARNING: An illegal reflective access operation has occurred\n",
      "WARNING: Illegal reflective access by org.apache.spark.unsafe.Platform (file:/usr/local/spark-3.2.0-bin-hadoop3.2/jars/spark-unsafe_2.12-3.2.0.jar) to constructor java.nio.DirectByteBuffer(long,int)\n",
      "WARNING: Please consider reporting this to the maintainers of org.apache.spark.unsafe.Platform\n",
      "WARNING: Use --illegal-access=warn to enable warnings of further illegal reflective access operations\n",
      "WARNING: All illegal access operations will be denied in a future release\n",
      "Using Spark's default log4j profile: org/apache/spark/log4j-defaults.properties\n",
      "Setting default log level to \"WARN\".\n",
      "To adjust logging level use sc.setLogLevel(newLevel). For SparkR, use setLogLevel(newLevel).\n",
      "21/12/02 00:13:39 WARN NativeCodeLoader: Unable to load native-hadoop library for your platform... using builtin-java classes where applicable\n"
     ]
    }
   ],
   "source": [
    "from pyspark.sql import SparkSession \n",
    "spark = SparkSession.builder.master(\"local\").appName(\"App\").getOrCreate()\n",
    "import pyspark.sql.functions as f\n"
   ]
  },
  {
   "cell_type": "code",
   "execution_count": 3,
   "id": "b3d30fcb",
   "metadata": {},
   "outputs": [],
   "source": [
    "dfraw = (spark\n",
    "          .read\n",
    "          .format(\"csv\")\n",
    "          .option(\"header\",\"true\")\n",
    "          .option(\"inferSchema\",\"true\")\n",
    "          .option(\"delimiter\",\";\")\n",
    "          .load(\"vacinados.csv\"))"
   ]
  },
  {
   "cell_type": "code",
   "execution_count": 4,
   "id": "969c567e",
   "metadata": {},
   "outputs": [],
   "source": [
    "import pyspark.sql.functions as f\n"
   ]
  },
  {
   "cell_type": "markdown",
   "id": "420d64a2",
   "metadata": {},
   "source": [
    "### groupby  com um sum\n"
   ]
  },
  {
   "cell_type": "code",
   "execution_count": 18,
   "id": "2cb65bf3",
   "metadata": {},
   "outputs": [
    {
     "name": "stdout",
     "output_type": "stream",
     "text": [
      "+---------+---------+\n",
      "|     sexo|sum(dose)|\n",
      "+---------+---------+\n",
      "|MASCULINO|      376|\n",
      "|   OUTROS|        3|\n",
      "| FEMININO|       48|\n",
      "+---------+---------+\n",
      "\n"
     ]
    }
   ],
   "source": [
    "# usei o campo dose apenas para teste certo seria usar um group by com count\n",
    "dfraw.groupBy(f.col('sexo')).sum('dose').show()"
   ]
  },
  {
   "cell_type": "markdown",
   "id": "65ad2ef7",
   "metadata": {},
   "source": [
    "### group by  com varias colunas"
   ]
  },
  {
   "cell_type": "code",
   "execution_count": 16,
   "id": "b9cd955e",
   "metadata": {},
   "outputs": [
    {
     "name": "stdout",
     "output_type": "stream",
     "text": [
      "+---------+----+-----+\n",
      "|     sexo|dose|count|\n",
      "+---------+----+-----+\n",
      "| FEMININO|   3|    3|\n",
      "|   OUTROS|   2|    1|\n",
      "|MASCULINO|   2|  105|\n",
      "| FEMININO|   2|   12|\n",
      "|MASCULINO|   1|  127|\n",
      "|   OUTROS|   1|    1|\n",
      "| FEMININO|   1|   15|\n",
      "|MASCULINO|   3|   13|\n",
      "+---------+----+-----+\n",
      "\n"
     ]
    }
   ],
   "source": [
    "dfraw.groupBy(f.col('sexo'), f.col('dose')).count().show()"
   ]
  },
  {
   "cell_type": "markdown",
   "id": "94095fd4",
   "metadata": {},
   "source": [
    "### groupby  com um Count"
   ]
  },
  {
   "cell_type": "code",
   "execution_count": 11,
   "id": "e9f50048",
   "metadata": {},
   "outputs": [
    {
     "name": "stdout",
     "output_type": "stream",
     "text": [
      "+---------+-----+\n",
      "|     sexo|count|\n",
      "+---------+-----+\n",
      "|MASCULINO|  245|\n",
      "|   OUTROS|    2|\n",
      "| FEMININO|   30|\n",
      "+---------+-----+\n",
      "\n"
     ]
    }
   ],
   "source": [
    "# show é apenas o comando de exibicao \n",
    "dfraw.groupBy(f.col('sexo')).count().show()"
   ]
  },
  {
   "cell_type": "markdown",
   "id": "20c9857d",
   "metadata": {},
   "source": [
    "### Min e Max"
   ]
  },
  {
   "cell_type": "code",
   "execution_count": 13,
   "id": "509b91fc",
   "metadata": {},
   "outputs": [
    {
     "name": "stdout",
     "output_type": "stream",
     "text": [
      "+---------+---------+\n",
      "|     sexo|min(dose)|\n",
      "+---------+---------+\n",
      "|MASCULINO|        1|\n",
      "|   OUTROS|        1|\n",
      "| FEMININO|        1|\n",
      "+---------+---------+\n",
      "\n"
     ]
    }
   ],
   "source": [
    "dfraw.groupBy(f.col('sexo')).min('dose').show()"
   ]
  },
  {
   "cell_type": "code",
   "execution_count": 14,
   "id": "37b8a371",
   "metadata": {},
   "outputs": [
    {
     "name": "stdout",
     "output_type": "stream",
     "text": [
      "+---------+---------+\n",
      "|     sexo|max(dose)|\n",
      "+---------+---------+\n",
      "|MASCULINO|        3|\n",
      "|   OUTROS|        2|\n",
      "| FEMININO|        3|\n",
      "+---------+---------+\n",
      "\n"
     ]
    }
   ],
   "source": [
    "dfraw.groupBy(f.col('sexo')).max('dose').show()"
   ]
  },
  {
   "cell_type": "markdown",
   "id": "d01bc633",
   "metadata": {},
   "source": [
    "### Média"
   ]
  },
  {
   "cell_type": "code",
   "execution_count": 15,
   "id": "6555eb24",
   "metadata": {},
   "outputs": [
    {
     "name": "stdout",
     "output_type": "stream",
     "text": [
      "+---------+------------------+\n",
      "|     sexo|         avg(dose)|\n",
      "+---------+------------------+\n",
      "|MASCULINO|1.5346938775510204|\n",
      "|   OUTROS|               1.5|\n",
      "| FEMININO|               1.6|\n",
      "+---------+------------------+\n",
      "\n"
     ]
    }
   ],
   "source": [
    "dfraw.groupBy(f.col('sexo')).mean('dose').show()"
   ]
  },
  {
   "cell_type": "markdown",
   "id": "46f09499",
   "metadata": {},
   "source": [
    "### Agregações "
   ]
  },
  {
   "cell_type": "code",
   "execution_count": 19,
   "id": "81729789",
   "metadata": {},
   "outputs": [
    {
     "name": "stdout",
     "output_type": "stream",
     "text": [
      "+---------+----+----------+----------+\n",
      "|     sexo|soma|menor dose|maior dose|\n",
      "+---------+----+----------+----------+\n",
      "|MASCULINO| 376|         1|         3|\n",
      "|   OUTROS|   3|         1|         2|\n",
      "| FEMININO|  48|         1|         3|\n",
      "+---------+----+----------+----------+\n",
      "\n"
     ]
    }
   ],
   "source": [
    "dfraw.groupBy(f.col('sexo')) \\\n",
    ".agg(f.sum('dose').alias('soma'), \\\n",
    "    f.min('dose').alias('menor dose'), \\\n",
    "    f.max('dose').alias('maior dose')\n",
    "    ).show()"
   ]
  },
  {
   "cell_type": "code",
   "execution_count": null,
   "id": "d0cd8edb",
   "metadata": {},
   "outputs": [],
   "source": []
  }
 ],
 "metadata": {
  "kernelspec": {
   "display_name": "Python 3 (ipykernel)",
   "language": "python",
   "name": "python3"
  },
  "language_info": {
   "codemirror_mode": {
    "name": "ipython",
    "version": 3
   },
   "file_extension": ".py",
   "mimetype": "text/x-python",
   "name": "python",
   "nbconvert_exporter": "python",
   "pygments_lexer": "ipython3",
   "version": "3.9.7"
  }
 },
 "nbformat": 4,
 "nbformat_minor": 5
}
