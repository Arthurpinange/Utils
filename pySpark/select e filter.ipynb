{
 "cells": [
  {
   "cell_type": "code",
   "execution_count": 6,
   "id": "b204ca4d",
   "metadata": {},
   "outputs": [],
   "source": [
    "from pyspark.sql import SparkSession \n",
    "spark = SparkSession.builder.master(\"local\").appName(\"App\").getOrCreate()"
   ]
  },
  {
   "cell_type": "code",
   "execution_count": 7,
   "id": "17d12fc8",
   "metadata": {},
   "outputs": [
    {
     "name": "stderr",
     "output_type": "stream",
     "text": [
      "                                                                                \r"
     ]
    }
   ],
   "source": [
    "dfraw = (spark\n",
    "          .read\n",
    "          .format(\"csv\")\n",
    "          .option(\"header\",\"true\")\n",
    "          .option(\"inferSchema\",\"true\")\n",
    "          .option(\"delimiter\",\";\")\n",
    "          .load(\"vacinados.csv\"))"
   ]
  },
  {
   "cell_type": "markdown",
   "id": "652287e5",
   "metadata": {},
   "source": [
    "### select de colunas "
   ]
  },
  {
   "cell_type": "code",
   "execution_count": 15,
   "id": "46ed451e",
   "metadata": {},
   "outputs": [
    {
     "name": "stdout",
     "output_type": "stream",
     "text": [
      "+--------------------+---------+\n",
      "|                nome|     sexo|\n",
      "+--------------------+---------+\n",
      "|AABAN VASCONCELOS...|MASCULINO|\n",
      "|AABAN VASCONCELOS...|MASCULINO|\n",
      "|AAMANDA MARIA FRE...| FEMININO|\n",
      "|AAMANDA MARIA FRE...| FEMININO|\n",
      "|AAMANDA MARIA FRE...| FEMININO|\n",
      "+--------------------+---------+\n",
      "only showing top 5 rows\n",
      "\n"
     ]
    }
   ],
   "source": [
    "dfraw.select('nome','sexo').show(5)"
   ]
  },
  {
   "cell_type": "markdown",
   "id": "14711965",
   "metadata": {},
   "source": [
    "### outra forma de fazer o select considerada boa pratica converte as colunas para tipo col"
   ]
  },
  {
   "cell_type": "code",
   "execution_count": 21,
   "id": "1daa2147",
   "metadata": {},
   "outputs": [
    {
     "name": "stdout",
     "output_type": "stream",
     "text": [
      "+--------------------+---------+\n",
      "|                nome|     sexo|\n",
      "+--------------------+---------+\n",
      "|AABAN VASCONCELOS...|MASCULINO|\n",
      "|AABAN VASCONCELOS...|MASCULINO|\n",
      "|AAMANDA MARIA FRE...| FEMININO|\n",
      "|AAMANDA MARIA FRE...| FEMININO|\n",
      "|AAMANDA MARIA FRE...| FEMININO|\n",
      "+--------------------+---------+\n",
      "only showing top 5 rows\n",
      "\n"
     ]
    }
   ],
   "source": [
    "\n",
    "import pyspark.sql.functions as f\n",
    "dfraw.select(f.col('nome'),f.col('sexo')).show(5)"
   ]
  },
  {
   "cell_type": "markdown",
   "id": "c497e4c8",
   "metadata": {},
   "source": [
    "### filter\n",
    "#### existem 3 maneiras simples de fazer filtros\n",
    "#### e abaixo segue um exemplo com duas condições no filtro"
   ]
  },
  {
   "cell_type": "code",
   "execution_count": 22,
   "id": "d2cfaea0",
   "metadata": {},
   "outputs": [
    {
     "name": "stdout",
     "output_type": "stream",
     "text": [
      "+--------------------+---------+\n",
      "|                nome|     sexo|\n",
      "+--------------------+---------+\n",
      "|AABAN VASCONCELOS...|MASCULINO|\n",
      "|AAMANDA MARIA FRE...| FEMININO|\n",
      "|AANA JULIA RAMOS ...| FEMININO|\n",
      "|AANA MAYARA DA SI...| FEMININO|\n",
      "|AANTONIO DE MELO ...|MASCULINO|\n",
      "+--------------------+---------+\n",
      "only showing top 5 rows\n",
      "\n"
     ]
    }
   ],
   "source": [
    "dfraw.select(f.col('nome'),f.col('sexo')).filter(f.col('dose')=='1').show(5)"
   ]
  },
  {
   "cell_type": "code",
   "execution_count": 24,
   "id": "9cd57b0b",
   "metadata": {},
   "outputs": [
    {
     "name": "stdout",
     "output_type": "stream",
     "text": [
      "+--------------------+---------+\n",
      "|                nome|     sexo|\n",
      "+--------------------+---------+\n",
      "|AABAN VASCONCELOS...|MASCULINO|\n",
      "|AAMANDA MARIA FRE...| FEMININO|\n",
      "|AANA JULIA RAMOS ...| FEMININO|\n",
      "|AANA MAYARA DA SI...| FEMININO|\n",
      "|AANTONIO DE MELO ...|MASCULINO|\n",
      "+--------------------+---------+\n",
      "only showing top 5 rows\n",
      "\n"
     ]
    }
   ],
   "source": [
    "dfraw.select('nome','sexo').filter(dfraw.dose=='1').show(5)"
   ]
  },
  {
   "cell_type": "code",
   "execution_count": 31,
   "id": "3163ae7f",
   "metadata": {},
   "outputs": [
    {
     "name": "stdout",
     "output_type": "stream",
     "text": [
      "+--------------------+---------+\n",
      "|                nome|     sexo|\n",
      "+--------------------+---------+\n",
      "|AABAN VASCONCELOS...|MASCULINO|\n",
      "|AAMANDA MARIA FRE...| FEMININO|\n",
      "|AANA JULIA RAMOS ...| FEMININO|\n",
      "|AANA MAYARA DA SI...| FEMININO|\n",
      "|AANTONIO DE MELO ...|MASCULINO|\n",
      "+--------------------+---------+\n",
      "only showing top 5 rows\n",
      "\n"
     ]
    }
   ],
   "source": [
    "#filtro com parametro\n",
    "filtro = f.col('dose')=='1'\n",
    "dfraw.select(f.col('nome'),f.col('sexo')).filter(filtro).show(5)"
   ]
  },
  {
   "cell_type": "code",
   "execution_count": 30,
   "id": "659d5089",
   "metadata": {},
   "outputs": [
    {
     "name": "stdout",
     "output_type": "stream",
     "text": [
      "+--------------------+--------+\n",
      "|                nome|    sexo|\n",
      "+--------------------+--------+\n",
      "|AAMANDA MARIA FRE...|FEMININO|\n",
      "|AANA JULIA RAMOS ...|FEMININO|\n",
      "|AANA MAYARA DA SI...|FEMININO|\n",
      "|ABAGELVA VIEIRA D...|FEMININO|\n",
      "|ABANEIDE PIRES DE...|FEMININO|\n",
      "+--------------------+--------+\n",
      "only showing top 5 rows\n",
      "\n"
     ]
    }
   ],
   "source": [
    "#filtro com duas condições\n",
    "dfraw.select(f.col('nome'),f.col('sexo')).filter((f.col('dose')=='1') & (f.col('sexo')=='FEMININO')).show(5)"
   ]
  },
  {
   "cell_type": "code",
   "execution_count": 32,
   "id": "84d1a569",
   "metadata": {},
   "outputs": [
    {
     "name": "stdout",
     "output_type": "stream",
     "text": [
      "+--------------------+--------+\n",
      "|                nome|    sexo|\n",
      "+--------------------+--------+\n",
      "|AAMANDA MARIA FRE...|FEMININO|\n",
      "|AANA JULIA RAMOS ...|FEMININO|\n",
      "|AANA MAYARA DA SI...|FEMININO|\n",
      "|ABAGELVA VIEIRA D...|FEMININO|\n",
      "|ABANEIDE PIRES DE...|FEMININO|\n",
      "+--------------------+--------+\n",
      "only showing top 5 rows\n",
      "\n"
     ]
    }
   ],
   "source": [
    "#também pode usar where no lugar de filtter\n",
    "dfraw.select(f.col('nome'),f.col('sexo')).where((f.col('dose')=='1') & (f.col('sexo')=='FEMININO')).show(5)"
   ]
  },
  {
   "cell_type": "code",
   "execution_count": null,
   "id": "ca85cd8f",
   "metadata": {},
   "outputs": [],
   "source": []
  }
 ],
 "metadata": {
  "kernelspec": {
   "display_name": "Python 3 (ipykernel)",
   "language": "python",
   "name": "python3"
  },
  "language_info": {
   "codemirror_mode": {
    "name": "ipython",
    "version": 3
   },
   "file_extension": ".py",
   "mimetype": "text/x-python",
   "name": "python",
   "nbconvert_exporter": "python",
   "pygments_lexer": "ipython3",
   "version": "3.9.7"
  }
 },
 "nbformat": 4,
 "nbformat_minor": 5
}
