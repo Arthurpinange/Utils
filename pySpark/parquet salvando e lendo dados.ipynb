{
 "cells": [
  {
   "cell_type": "code",
   "execution_count": 1,
   "id": "b0530023",
   "metadata": {},
   "outputs": [
    {
     "name": "stderr",
     "output_type": "stream",
     "text": [
      "WARNING: An illegal reflective access operation has occurred\n",
      "WARNING: Illegal reflective access by org.apache.spark.unsafe.Platform (file:/usr/local/spark-3.2.0-bin-hadoop3.2/jars/spark-unsafe_2.12-3.2.0.jar) to constructor java.nio.DirectByteBuffer(long,int)\n",
      "WARNING: Please consider reporting this to the maintainers of org.apache.spark.unsafe.Platform\n",
      "WARNING: Use --illegal-access=warn to enable warnings of further illegal reflective access operations\n",
      "WARNING: All illegal access operations will be denied in a future release\n",
      "Using Spark's default log4j profile: org/apache/spark/log4j-defaults.properties\n",
      "Setting default log level to \"WARN\".\n",
      "To adjust logging level use sc.setLogLevel(newLevel). For SparkR, use setLogLevel(newLevel).\n",
      "21/12/05 18:09:49 WARN NativeCodeLoader: Unable to load native-hadoop library for your platform... using builtin-java classes where applicable\n"
     ]
    }
   ],
   "source": [
    "from pyspark.sql import SparkSession \n",
    "import pyspark.sql.functions as f\n",
    "spark = SparkSession.builder.master(\"local\").appName(\"App\").getOrCreate()\n",
    "\n"
   ]
  },
  {
   "cell_type": "code",
   "execution_count": 2,
   "id": "b3d30fcb",
   "metadata": {},
   "outputs": [
    {
     "name": "stderr",
     "output_type": "stream",
     "text": [
      "                                                                                \r"
     ]
    }
   ],
   "source": [
    "df = (spark\n",
    "          .read\n",
    "          .format(\"csv\")\n",
    "          .option(\"header\",\"true\")\n",
    "          .option(\"inferSchema\",\"true\")\n",
    "          .option(\"delimiter\",\";\")\n",
    "          .load(\"vacinados.csv\"))"
   ]
  },
  {
   "cell_type": "markdown",
   "id": "b023f5c6",
   "metadata": {},
   "source": [
    "### window function, para usar import o pacote"
   ]
  },
  {
   "cell_type": "code",
   "execution_count": 3,
   "id": "969c567e",
   "metadata": {},
   "outputs": [],
   "source": [
    "from pyspark.sql.window import Window"
   ]
  },
  {
   "cell_type": "markdown",
   "id": "420d64a2",
   "metadata": {},
   "source": [
    "## Particionando arquivos e salvando em parquet\n",
    "### o PartitionBy particiona o arquivo em varios arquivos separando por categoria, no exemplo a baixo o datafreme foi dividido em varios arquivos por sexo dentro de uma pasta chamada por_sexo\n",
    "\n",
    "obs: quando salvamos or arquivos assim o campo que foi base do partitionby nao é escrito no arquivo, nesse exemplo o sexo. sijestao criar um novo campo se for preciso ter ele escrito"
   ]
  },
  {
   "cell_type": "code",
   "execution_count": 5,
   "id": "9598d730",
   "metadata": {},
   "outputs": [
    {
     "name": "stderr",
     "output_type": "stream",
     "text": [
      "                                                                                \r"
     ]
    },
    {
     "data": {
      "text/plain": [
       "'\\nvai salvar em uma pasta coma seguinte estrutura\\nem_parquet\\n|_sexo=masculino\\n|_sexo=feminino\\n|_sexo=outros\\n'"
      ]
     },
     "execution_count": 5,
     "metadata": {},
     "output_type": "execute_result"
    }
   ],
   "source": [
    "df.write.option(\"header\", True) \\\n",
    "        .partitionBy(\"sexo\") \\\n",
    "        .mode(\"overwrite\") \\\n",
    "        .parquet(\"em_parquet\")\n",
    "\n",
    "\"\"\"\n",
    "vai salvar em uma pasta coma seguinte estrutura\n",
    "em_parquet (pasta)\n",
    "|_sexo=masculino (pasta)\n",
    "|_sexo=feminino (pasta)\n",
    "|_sexo=outros (pasta)\n",
    "\"\"\""
   ]
  },
  {
   "cell_type": "markdown",
   "id": "b1acb8ea",
   "metadata": {},
   "source": [
    "## Lendo Arquivos parquet particionado\n",
    "### se existir mais de um arquivo em uma pasta basta colocar * que todos arquivos vâo ser lidos\n",
    "### isso também serve para subpatas o spark é esperto a ponto de entrar  em cada pasta e ler os aruivos"
   ]
  },
  {
   "cell_type": "code",
   "execution_count": 12,
   "id": "1b5b64ba",
   "metadata": {},
   "outputs": [],
   "source": [
    "### lendo de tadas as nossas pastas\n",
    "\"\"\"\n",
    "em_parquet (pasta)\n",
    "|_sexo=masculino (pasta)\n",
    "|_sexo=feminino (pasta)\n",
    "|_sexo=outros (pasta)\n",
    "\"\"\"\n",
    "dfFull = spark.read.parquet(\"em_parquet/*\")"
   ]
  },
  {
   "cell_type": "code",
   "execution_count": 21,
   "id": "8a87726e",
   "metadata": {},
   "outputs": [],
   "source": [
    "### lendo de uma pasta especifica\n",
    "\"\"\"\n",
    "em_parquet (pasta)\n",
    "|_sexo=masculino (pasta)\n",
    "|_sexo=feminino (pasta)\n",
    "|_sexo=outros (pasta)\n",
    "\"\"\"\n",
    "dfOutros = spark.read.parquet(\"em_parquet/sexo=OUTROS/*\")"
   ]
  },
  {
   "cell_type": "code",
   "execution_count": 22,
   "id": "bbb03929",
   "metadata": {},
   "outputs": [
    {
     "name": "stdout",
     "output_type": "stream",
     "text": [
      "+--------------+--------------------+--------------------+--------------------+------+----+--------------+--------------------+\n",
      "|            pf|                nome|               grupo|              vacina|  lote|dose|data_vacinacao|     local_vacinacao|\n",
      "+--------------+--------------------+--------------------+--------------------+------+----+--------------+--------------------+\n",
      "|***.302.844-**|ABDIAS DE MELO TE...|PESSOAS COM COMOR...|3 - COMIRNATY (PF...|EX2405|   1|    2021-05-13| DRIVE THRU GERALDÃO|\n",
      "|***.302.844-**|ABDIAS DE MELO TE...|PESSOAS COM COMOR...|3 - COMIRNATY (PF...|FD7221|   2|    2021-08-06|CENTRO DE VACINAÇ...|\n",
      "+--------------+--------------------+--------------------+--------------------+------+----+--------------+--------------------+\n",
      "\n"
     ]
    }
   ],
   "source": [
    "dfOutros.show()"
   ]
  },
  {
   "cell_type": "code",
   "execution_count": 24,
   "id": "0c8a275f",
   "metadata": {},
   "outputs": [
    {
     "name": "stdout",
     "output_type": "stream",
     "text": [
      "root\n",
      " |-- pf: string (nullable = true)\n",
      " |-- nome: string (nullable = true)\n",
      " |-- grupo: string (nullable = true)\n",
      " |-- vacina: string (nullable = true)\n",
      " |-- lote: string (nullable = true)\n",
      " |-- dose: integer (nullable = true)\n",
      " |-- data_vacinacao: string (nullable = true)\n",
      " |-- local_vacinacao: string (nullable = true)\n",
      "\n"
     ]
    }
   ],
   "source": [
    "dfOutros.printSchema()"
   ]
  },
  {
   "cell_type": "code",
   "execution_count": null,
   "id": "4ec04868",
   "metadata": {},
   "outputs": [],
   "source": []
  }
 ],
 "metadata": {
  "kernelspec": {
   "display_name": "Python 3 (ipykernel)",
   "language": "python",
   "name": "python3"
  },
  "language_info": {
   "codemirror_mode": {
    "name": "ipython",
    "version": 3
   },
   "file_extension": ".py",
   "mimetype": "text/x-python",
   "name": "python",
   "nbconvert_exporter": "python",
   "pygments_lexer": "ipython3",
   "version": "3.9.7"
  }
 },
 "nbformat": 4,
 "nbformat_minor": 5
}
