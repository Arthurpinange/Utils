{
 "cells": [
  {
   "cell_type": "code",
   "execution_count": 1,
   "id": "b0530023",
   "metadata": {},
   "outputs": [
    {
     "name": "stderr",
     "output_type": "stream",
     "text": [
      "WARNING: An illegal reflective access operation has occurred\n",
      "WARNING: Illegal reflective access by org.apache.spark.unsafe.Platform (file:/usr/local/spark-3.2.0-bin-hadoop3.2/jars/spark-unsafe_2.12-3.2.0.jar) to constructor java.nio.DirectByteBuffer(long,int)\n",
      "WARNING: Please consider reporting this to the maintainers of org.apache.spark.unsafe.Platform\n",
      "WARNING: Use --illegal-access=warn to enable warnings of further illegal reflective access operations\n",
      "WARNING: All illegal access operations will be denied in a future release\n",
      "Using Spark's default log4j profile: org/apache/spark/log4j-defaults.properties\n",
      "Setting default log level to \"WARN\".\n",
      "To adjust logging level use sc.setLogLevel(newLevel). For SparkR, use setLogLevel(newLevel).\n",
      "21/12/02 00:13:39 WARN NativeCodeLoader: Unable to load native-hadoop library for your platform... using builtin-java classes where applicable\n"
     ]
    }
   ],
   "source": [
    "from pyspark.sql import SparkSession \n",
    "spark = SparkSession.builder.master(\"local\").appName(\"App\").getOrCreate()\n",
    "import pyspark.sql.functions as f\n"
   ]
  },
  {
   "cell_type": "code",
   "execution_count": 20,
   "id": "b3d30fcb",
   "metadata": {},
   "outputs": [],
   "source": [
    "df_1 = (spark\n",
    "          .read\n",
    "          .format(\"csv\")\n",
    "          .option(\"header\",\"true\")\n",
    "          .option(\"inferSchema\",\"true\")\n",
    "          .option(\"delimiter\",\";\")\n",
    "          .load(\"vacinados.csv\"))"
   ]
  },
  {
   "cell_type": "code",
   "execution_count": 24,
   "id": "969c567e",
   "metadata": {},
   "outputs": [],
   "source": [
    "#criado para o axemplo\n",
    "df_2 = df_1"
   ]
  },
  {
   "cell_type": "markdown",
   "id": "420d64a2",
   "metadata": {},
   "source": [
    "### inner join \n",
    "o parametro on determina as chaves importante mater eles com mesmo nome para facilitar "
   ]
  },
  {
   "cell_type": "code",
   "execution_count": 25,
   "id": "ba84f647",
   "metadata": {},
   "outputs": [],
   "source": [
    "df_inner = df_1.join(df_2, on=['pf'], how='inner')"
   ]
  },
  {
   "cell_type": "markdown",
   "id": "fdd92fa8",
   "metadata": {},
   "source": [
    "### left join"
   ]
  },
  {
   "cell_type": "code",
   "execution_count": 27,
   "id": "c155a791",
   "metadata": {},
   "outputs": [],
   "source": [
    "df_left = df_1.join(df_2, on=['pf'], how='left')"
   ]
  },
  {
   "cell_type": "code",
   "execution_count": null,
   "id": "05767839",
   "metadata": {},
   "outputs": [],
   "source": []
  }
 ],
 "metadata": {
  "kernelspec": {
   "display_name": "Python 3 (ipykernel)",
   "language": "python",
   "name": "python3"
  },
  "language_info": {
   "codemirror_mode": {
    "name": "ipython",
    "version": 3
   },
   "file_extension": ".py",
   "mimetype": "text/x-python",
   "name": "python",
   "nbconvert_exporter": "python",
   "pygments_lexer": "ipython3",
   "version": "3.9.7"
  }
 },
 "nbformat": 4,
 "nbformat_minor": 5
}
