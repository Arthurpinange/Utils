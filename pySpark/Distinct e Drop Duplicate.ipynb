{
 "cells": [
  {
   "cell_type": "code",
   "execution_count": 33,
   "id": "b0530023",
   "metadata": {},
   "outputs": [],
   "source": [
    "from pyspark.sql import SparkSession \n",
    "import pyspark.sql.functions as f\n",
    "from pyspark.sql.functions import StringType\n",
    "spark = SparkSession.builder.master(\"local\").appName(\"App\").getOrCreate()\n",
    "\n"
   ]
  },
  {
   "cell_type": "code",
   "execution_count": 2,
   "id": "b3d30fcb",
   "metadata": {},
   "outputs": [
    {
     "name": "stderr",
     "output_type": "stream",
     "text": [
      "                                                                                \r"
     ]
    }
   ],
   "source": [
    "df = (spark\n",
    "          .read\n",
    "          .format(\"csv\")\n",
    "          .option(\"header\",\"true\")\n",
    "          .option(\"inferSchema\",\"true\")\n",
    "          .option(\"delimiter\",\";\")\n",
    "          .load(\"vacinados.csv\"))"
   ]
  },
  {
   "cell_type": "markdown",
   "id": "5a65e6df",
   "metadata": {},
   "source": [
    "## Distinct\n",
    "### retorna apenas valores distintos"
   ]
  },
  {
   "cell_type": "code",
   "execution_count": 88,
   "id": "8c2ec674",
   "metadata": {},
   "outputs": [
    {
     "name": "stdout",
     "output_type": "stream",
     "text": [
      "+----+\n",
      "|dose|\n",
      "+----+\n",
      "|   1|\n",
      "|   3|\n",
      "|   2|\n",
      "+----+\n",
      "\n"
     ]
    }
   ],
   "source": [
    "df.select(f.col('dose')).distinct().show()"
   ]
  },
  {
   "cell_type": "markdown",
   "id": "4255e217",
   "metadata": {},
   "source": [
    "## Drop Duplicate\n",
    "### deleta do dataframe valores duplicados"
   ]
  },
  {
   "cell_type": "code",
   "execution_count": 93,
   "id": "5b06e16d",
   "metadata": {},
   "outputs": [],
   "source": [
    "df_semDuplicidade  = df.dropDuplicates()"
   ]
  },
  {
   "cell_type": "code",
   "execution_count": null,
   "id": "7ac9e428",
   "metadata": {},
   "outputs": [],
   "source": []
  }
 ],
 "metadata": {
  "kernelspec": {
   "display_name": "Python 3 (ipykernel)",
   "language": "python",
   "name": "python3"
  },
  "language_info": {
   "codemirror_mode": {
    "name": "ipython",
    "version": 3
   },
   "file_extension": ".py",
   "mimetype": "text/x-python",
   "name": "python",
   "nbconvert_exporter": "python",
   "pygments_lexer": "ipython3",
   "version": "3.9.7"
  }
 },
 "nbformat": 4,
 "nbformat_minor": 5
}
