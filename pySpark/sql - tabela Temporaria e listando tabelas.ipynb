{
 "cells": [
  {
   "cell_type": "code",
   "execution_count": 33,
   "id": "b0530023",
   "metadata": {},
   "outputs": [],
   "source": [
    "from pyspark.sql import SparkSession \n",
    "import pyspark.sql.functions as f\n",
    "from pyspark.sql.functions import StringType\n",
    "spark = SparkSession.builder.master(\"local\").appName(\"App\").getOrCreate()\n",
    "\n"
   ]
  },
  {
   "cell_type": "code",
   "execution_count": 2,
   "id": "b3d30fcb",
   "metadata": {},
   "outputs": [
    {
     "name": "stderr",
     "output_type": "stream",
     "text": [
      "                                                                                \r"
     ]
    }
   ],
   "source": [
    "df = (spark\n",
    "          .read\n",
    "          .format(\"csv\")\n",
    "          .option(\"header\",\"true\")\n",
    "          .option(\"inferSchema\",\"true\")\n",
    "          .option(\"delimiter\",\";\")\n",
    "          .load(\"vacinados.csv\"))"
   ]
  },
  {
   "cell_type": "markdown",
   "id": "eb7ac0ca",
   "metadata": {},
   "source": [
    "### Criando tabelas temporarias"
   ]
  },
  {
   "cell_type": "code",
   "execution_count": 57,
   "id": "4f224d15",
   "metadata": {},
   "outputs": [],
   "source": [
    "df.createTempView('tb_temp')"
   ]
  },
  {
   "cell_type": "code",
   "execution_count": 61,
   "id": "61fc314e",
   "metadata": {},
   "outputs": [],
   "source": [
    "# pode criar sem instaciar um DF\n",
    "spark.read.format(\"csv\") \\\n",
    "          .option(\"header\",\"true\") \\\n",
    "          .option(\"inferSchema\",\"true\") \\\n",
    "          .option(\"delimiter\",\";\") \\\n",
    "          .load(\"vacinados.csv\").createTempView('tb_temp2')"
   ]
  },
  {
   "cell_type": "markdown",
   "id": "243609b9",
   "metadata": {},
   "source": [
    "### visualizando tabelas criadas"
   ]
  },
  {
   "cell_type": "code",
   "execution_count": 64,
   "id": "b3a227cf",
   "metadata": {},
   "outputs": [
    {
     "name": "stdout",
     "output_type": "stream",
     "text": [
      "+---------+----------+-----------+\n",
      "|namespace| tableName|isTemporary|\n",
      "+---------+----------+-----------+\n",
      "|         |   tb_temp|       true|\n",
      "|         |  tb_temp2|       true|\n",
      "|         |temp_table|       true|\n",
      "+---------+----------+-----------+\n",
      "\n"
     ]
    }
   ],
   "source": [
    "spark.sql('show tables').show()"
   ]
  },
  {
   "cell_type": "code",
   "execution_count": 70,
   "id": "b62e1e8b",
   "metadata": {},
   "outputs": [
    {
     "name": "stdout",
     "output_type": "stream",
     "text": [
      "+--------------------+\n",
      "|                nome|\n",
      "+--------------------+\n",
      "|AABAN VASCONCELOS...|\n",
      "|AABAN VASCONCELOS...|\n",
      "|AAMANDA MARIA FRE...|\n",
      "|AAMANDA MARIA FRE...|\n",
      "|AAMANDA MARIA FRE...|\n",
      "+--------------------+\n",
      "only showing top 5 rows\n",
      "\n"
     ]
    }
   ],
   "source": [
    "spark.sql('select nome from tb_temp').show(5)"
   ]
  },
  {
   "cell_type": "code",
   "execution_count": null,
   "id": "7c810c30",
   "metadata": {},
   "outputs": [],
   "source": []
  }
 ],
 "metadata": {
  "kernelspec": {
   "display_name": "Python 3 (ipykernel)",
   "language": "python",
   "name": "python3"
  },
  "language_info": {
   "codemirror_mode": {
    "name": "ipython",
    "version": 3
   },
   "file_extension": ".py",
   "mimetype": "text/x-python",
   "name": "python",
   "nbconvert_exporter": "python",
   "pygments_lexer": "ipython3",
   "version": "3.9.7"
  }
 },
 "nbformat": 4,
 "nbformat_minor": 5
}
