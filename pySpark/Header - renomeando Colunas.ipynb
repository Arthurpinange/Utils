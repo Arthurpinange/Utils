{
 "cells": [
  {
   "cell_type": "code",
   "execution_count": 54,
   "id": "8dfceab3",
   "metadata": {},
   "outputs": [],
   "source": [
    "from pyspark.sql import SparkSession \n",
    "spark = SparkSession.builder.master(\"local\").appName(\"App\").getOrCreate()\n",
    "import pyspark.sql.functions as f"
   ]
  },
  {
   "cell_type": "markdown",
   "id": "8afe8097",
   "metadata": {},
   "source": [
    "### vamos Renomear as colunas\n",
    "Não esquecer de adcionar o asterisco quando passar a lista como argumento no toDF"
   ]
  },
  {
   "cell_type": "code",
   "execution_count": 91,
   "id": "80d31b1e",
   "metadata": {},
   "outputs": [],
   "source": [
    "todf = [\"df_cpf\", \"df_nome\", \"df_sexo\", \"df_grupo\",\"df_vacina\", \"df_lote\", \"df_dose\", \"df_data_vacinacao\",\n",
    "        \"df_local_vacinacao\"]"
   ]
  },
  {
   "cell_type": "code",
   "execution_count": 89,
   "id": "20deefd8",
   "metadata": {},
   "outputs": [
    {
     "name": "stderr",
     "output_type": "stream",
     "text": [
      "                                                                                \r"
     ]
    }
   ],
   "source": [
    "dfraw = (spark\n",
    "          .read\n",
    "          .format(\"csv\")\n",
    "          .option(\"header\",\"true\")\n",
    "          .option(\"inferSchema\",\"true\")\n",
    "          .option(\"delimiter\",\";\")\n",
    "          .load(\"vacinados.csv\").toDF(*todf))"
   ]
  },
  {
   "cell_type": "code",
   "execution_count": 90,
   "id": "efff7a8a",
   "metadata": {},
   "outputs": [
    {
     "name": "stdout",
     "output_type": "stream",
     "text": [
      "root\n",
      " |-- df_cpf: string (nullable = true)\n",
      " |-- df_nome: string (nullable = true)\n",
      " |-- df_sexo: string (nullable = true)\n",
      " |-- df_grupo: string (nullable = true)\n",
      " |-- df_vacina: string (nullable = true)\n",
      " |-- df_lote: string (nullable = true)\n",
      " |-- df_dose: integer (nullable = true)\n",
      " |-- df_data_vacinacao: string (nullable = true)\n",
      " |-- df_local_vacinacao: string (nullable = true)\n",
      "\n"
     ]
    }
   ],
   "source": [
    "dfraw.printSchema()"
   ]
  },
  {
   "cell_type": "markdown",
   "id": "b93eebb5",
   "metadata": {},
   "source": [
    "### também podemos usar um alias para renomear uma coluna"
   ]
  },
  {
   "cell_type": "code",
   "execution_count": 93,
   "id": "58707797",
   "metadata": {},
   "outputs": [],
   "source": [
    "dfNovo  = dfraw.select(f.col(\"df_nome\").alias(\"NOVONOME\"), f.col(\"df_sexo\").alias(\"NOVONOMESEXO\"))"
   ]
  },
  {
   "cell_type": "code",
   "execution_count": 94,
   "id": "8cc4f6f9",
   "metadata": {},
   "outputs": [
    {
     "name": "stdout",
     "output_type": "stream",
     "text": [
      "+--------------------+------------+\n",
      "|            NOVONOME|NOVONOMESEXO|\n",
      "+--------------------+------------+\n",
      "|AABAN VASCONCELOS...|   MASCULINO|\n",
      "|AABAN VASCONCELOS...|   MASCULINO|\n",
      "|AAMANDA MARIA FRE...|    FEMININO|\n",
      "|AAMANDA MARIA FRE...|    FEMININO|\n",
      "|AAMANDA MARIA FRE...|    FEMININO|\n",
      "|AANA JULIA RAMOS ...|    FEMININO|\n",
      "|AANA MAYARA DA SI...|    FEMININO|\n",
      "|AANA MAYARA DA SI...|    FEMININO|\n",
      "|AANTONIO DE MELO ...|   MASCULINO|\n",
      "|AANTONIO DE MELO ...|   MASCULINO|\n",
      "+--------------------+------------+\n",
      "only showing top 10 rows\n",
      "\n"
     ]
    }
   ],
   "source": [
    "dfNovo.show(10)"
   ]
  },
  {
   "cell_type": "code",
   "execution_count": null,
   "id": "3ca2beac",
   "metadata": {},
   "outputs": [],
   "source": []
  }
 ],
 "metadata": {
  "kernelspec": {
   "display_name": "Python 3 (ipykernel)",
   "language": "python",
   "name": "python3"
  },
  "language_info": {
   "codemirror_mode": {
    "name": "ipython",
    "version": 3
   },
   "file_extension": ".py",
   "mimetype": "text/x-python",
   "name": "python",
   "nbconvert_exporter": "python",
   "pygments_lexer": "ipython3",
   "version": "3.9.7"
  }
 },
 "nbformat": 4,
 "nbformat_minor": 5
}
