{
 "cells": [
  {
   "cell_type": "code",
   "execution_count": 1,
   "id": "b0530023",
   "metadata": {},
   "outputs": [
    {
     "name": "stderr",
     "output_type": "stream",
     "text": [
      "WARNING: An illegal reflective access operation has occurred\n",
      "WARNING: Illegal reflective access by org.apache.spark.unsafe.Platform (file:/usr/local/spark-3.2.0-bin-hadoop3.2/jars/spark-unsafe_2.12-3.2.0.jar) to constructor java.nio.DirectByteBuffer(long,int)\n",
      "WARNING: Please consider reporting this to the maintainers of org.apache.spark.unsafe.Platform\n",
      "WARNING: Use --illegal-access=warn to enable warnings of further illegal reflective access operations\n",
      "WARNING: All illegal access operations will be denied in a future release\n",
      "Using Spark's default log4j profile: org/apache/spark/log4j-defaults.properties\n",
      "Setting default log level to \"WARN\".\n",
      "To adjust logging level use sc.setLogLevel(newLevel). For SparkR, use setLogLevel(newLevel).\n",
      "21/12/02 00:13:39 WARN NativeCodeLoader: Unable to load native-hadoop library for your platform... using builtin-java classes where applicable\n"
     ]
    }
   ],
   "source": [
    "from pyspark.sql import SparkSession \n",
    "import pyspark.sql.functions as f\n",
    "spark = SparkSession.builder.master(\"local\").appName(\"App\").getOrCreate()\n",
    "\n"
   ]
  },
  {
   "cell_type": "code",
   "execution_count": 32,
   "id": "b3d30fcb",
   "metadata": {},
   "outputs": [],
   "source": [
    "df = (spark\n",
    "          .read\n",
    "          .format(\"csv\")\n",
    "          .option(\"header\",\"true\")\n",
    "          .option(\"inferSchema\",\"true\")\n",
    "          .option(\"delimiter\",\";\")\n",
    "          .load(\"vacinados.csv\"))"
   ]
  },
  {
   "cell_type": "markdown",
   "id": "b023f5c6",
   "metadata": {},
   "source": [
    "### window function, para usar import o pacote"
   ]
  },
  {
   "cell_type": "code",
   "execution_count": 33,
   "id": "969c567e",
   "metadata": {},
   "outputs": [],
   "source": [
    "from pyspark.sql.window import Window"
   ]
  },
  {
   "cell_type": "markdown",
   "id": "420d64a2",
   "metadata": {},
   "source": [
    "### o PartitionBy particiona o arquivo em varios arquivos separando por categoria, no exemplo a baixo o datafreme foi dividido em varios arquivos por sexo dentro de uma pasta chamada por_sexo"
   ]
  },
  {
   "cell_type": "code",
   "execution_count": 35,
   "id": "125f8db0",
   "metadata": {},
   "outputs": [
    {
     "data": {
      "text/plain": [
       "'\\nvai salvar em uma pasta coma seguinte estrutura\\npor_sexo\\n|_sexo-masculino\\n|_sexo=feminino\\n|_sexo=outros\\n'"
      ]
     },
     "execution_count": 35,
     "metadata": {},
     "output_type": "execute_result"
    }
   ],
   "source": [
    "df.write.option(\"header\", True) \\\n",
    "        .partitionBy(\"sexo\") \\\n",
    "        .mode(\"overwrite\") \\\n",
    "        .csv(\"por_sexo\")\n",
    "\n",
    "\"\"\"\n",
    "vai salvar em uma pasta coma seguinte estrutura\n",
    "por_sexo\n",
    "|_sexo-masculino\n",
    "|_sexo=feminino\n",
    "|_sexo=outros\n",
    "\"\"\""
   ]
  },
  {
   "cell_type": "markdown",
   "id": "0e2ec682",
   "metadata": {},
   "source": [
    "### partition by salvando em parquet"
   ]
  },
  {
   "cell_type": "code",
   "execution_count": 36,
   "id": "9598d730",
   "metadata": {},
   "outputs": [
    {
     "name": "stderr",
     "output_type": "stream",
     "text": [
      "                                                                                \r"
     ]
    },
    {
     "data": {
      "text/plain": [
       "'\\nvai salvar em uma pasta coma seguinte estrutura\\npor_sexo\\n|_sexo-masculino\\n|_sexo=feminino\\n|_sexo=outros\\n'"
      ]
     },
     "execution_count": 36,
     "metadata": {},
     "output_type": "execute_result"
    }
   ],
   "source": [
    "df.write.option(\"header\", True) \\\n",
    "        .partitionBy(\"sexo\") \\\n",
    "        .mode(\"overwrite\") \\\n",
    "        .parquet(\"em_parquet\")\n",
    "\n",
    "\"\"\"\n",
    "vai salvar em uma pasta coma seguinte estrutura\n",
    "em_parquet\n",
    "|_sexo-masculino\n",
    "|_sexo=feminino\n",
    "|_sexo=outros\n",
    "\"\"\""
   ]
  },
  {
   "cell_type": "code",
   "execution_count": null,
   "id": "f3d2d44a",
   "metadata": {},
   "outputs": [],
   "source": []
  }
 ],
 "metadata": {
  "kernelspec": {
   "display_name": "Python 3 (ipykernel)",
   "language": "python",
   "name": "python3"
  },
  "language_info": {
   "codemirror_mode": {
    "name": "ipython",
    "version": 3
   },
   "file_extension": ".py",
   "mimetype": "text/x-python",
   "name": "python",
   "nbconvert_exporter": "python",
   "pygments_lexer": "ipython3",
   "version": "3.9.7"
  }
 },
 "nbformat": 4,
 "nbformat_minor": 5
}
