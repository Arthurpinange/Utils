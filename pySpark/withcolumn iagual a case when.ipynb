{
 "cells": [
  {
   "cell_type": "code",
   "execution_count": 54,
   "id": "87934c89",
   "metadata": {},
   "outputs": [],
   "source": [
    "from pyspark.sql import SparkSession \n",
    "spark = SparkSession.builder.master(\"local\").appName(\"App\").getOrCreate()\n",
    "import pyspark.sql.functions as f"
   ]
  },
  {
   "cell_type": "code",
   "execution_count": 55,
   "id": "79a5c12c",
   "metadata": {},
   "outputs": [
    {
     "name": "stderr",
     "output_type": "stream",
     "text": [
      "                                                                                \r"
     ]
    }
   ],
   "source": [
    "dfraw = (spark\n",
    "          .read\n",
    "          .format(\"csv\")\n",
    "          .option(\"header\",\"true\")\n",
    "          .option(\"inferSchema\",\"true\")\n",
    "          .option(\"delimiter\",\";\")\n",
    "          .load(\"vacinados.csv\"))"
   ]
  },
  {
   "cell_type": "markdown",
   "id": "1ab63e2f",
   "metadata": {},
   "source": [
    "### withcolumn equivalente a um case when"
   ]
  },
  {
   "cell_type": "code",
   "execution_count": 62,
   "id": "22445324",
   "metadata": {},
   "outputs": [],
   "source": [
    "dfNovo = (dfraw.withColumn(\"dose_nome\", \n",
    "                           f.when(f.col(\"dose\")==1, \"Primeira\").otherwise(\"Segunda\")\n",
    "                          )\n",
    "          )"
   ]
  },
  {
   "cell_type": "code",
   "execution_count": 61,
   "id": "105fc169",
   "metadata": {},
   "outputs": [
    {
     "name": "stdout",
     "output_type": "stream",
     "text": [
      "+--------------------+----+---------+\n",
      "|                nome|dose|dose_nome|\n",
      "+--------------------+----+---------+\n",
      "|AABAN VASCONCELOS...|   1| Primeira|\n",
      "|AABAN VASCONCELOS...|   2|  Segunda|\n",
      "|AAMANDA MARIA FRE...|   3|  Segunda|\n",
      "|AAMANDA MARIA FRE...|   2|  Segunda|\n",
      "|AAMANDA MARIA FRE...|   1| Primeira|\n",
      "|AANA JULIA RAMOS ...|   1| Primeira|\n",
      "|AANA MAYARA DA SI...|   2|  Segunda|\n",
      "|AANA MAYARA DA SI...|   1| Primeira|\n",
      "|AANTONIO DE MELO ...|   3|  Segunda|\n",
      "|AANTONIO DE MELO ...|   2|  Segunda|\n",
      "|AANTONIO DE MELO ...|   1| Primeira|\n",
      "|AARAO AATA LEAL G...|   1| Primeira|\n",
      "|AARÃO GONÇALVES D...|   3|  Segunda|\n",
      "|AARÃO JOSÉ CARNEI...|   2|  Segunda|\n",
      "|AARÃO JOSÉ CARNEI...|   1| Primeira|\n",
      "|   AARÃO JOSÉ VIEIRA|   2|  Segunda|\n",
      "|   AARÃO JOSÉ VIEIRA|   1| Primeira|\n",
      "|AARAO LINS DE AND...|   1| Primeira|\n",
      "|AARAO LINS DE AND...|   2|  Segunda|\n",
      "|AARÃO ROBERTO SIL...|   1| Primeira|\n",
      "+--------------------+----+---------+\n",
      "only showing top 20 rows\n",
      "\n"
     ]
    }
   ],
   "source": [
    "dfNovo.select(f.col(\"nome\"),f.col(\"dose\"),f.col(\"dose_nome\")).show()"
   ]
  },
  {
   "cell_type": "code",
   "execution_count": null,
   "id": "8a243f18",
   "metadata": {},
   "outputs": [],
   "source": []
  }
 ],
 "metadata": {
  "kernelspec": {
   "display_name": "Python 3 (ipykernel)",
   "language": "python",
   "name": "python3"
  },
  "language_info": {
   "codemirror_mode": {
    "name": "ipython",
    "version": 3
   },
   "file_extension": ".py",
   "mimetype": "text/x-python",
   "name": "python",
   "nbconvert_exporter": "python",
   "pygments_lexer": "ipython3",
   "version": "3.9.7"
  }
 },
 "nbformat": 4,
 "nbformat_minor": 5
}
