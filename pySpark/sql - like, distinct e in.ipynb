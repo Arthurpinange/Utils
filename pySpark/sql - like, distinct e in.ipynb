{
 "cells": [
  {
   "cell_type": "code",
   "execution_count": 33,
   "id": "b0530023",
   "metadata": {},
   "outputs": [],
   "source": [
    "from pyspark.sql import SparkSession \n",
    "import pyspark.sql.functions as f\n",
    "from pyspark.sql.functions import StringType\n",
    "spark = SparkSession.builder.master(\"local\").appName(\"App\").getOrCreate()\n",
    "\n"
   ]
  },
  {
   "cell_type": "code",
   "execution_count": 2,
   "id": "b3d30fcb",
   "metadata": {},
   "outputs": [
    {
     "name": "stderr",
     "output_type": "stream",
     "text": [
      "                                                                                \r"
     ]
    }
   ],
   "source": [
    "df = (spark\n",
    "          .read\n",
    "          .format(\"csv\")\n",
    "          .option(\"header\",\"true\")\n",
    "          .option(\"inferSchema\",\"true\")\n",
    "          .option(\"delimiter\",\";\")\n",
    "          .load(\"vacinados.csv\"))"
   ]
  },
  {
   "cell_type": "markdown",
   "id": "a730f1e2",
   "metadata": {},
   "source": [
    "### LIKE,  Distinct, IN"
   ]
  },
  {
   "cell_type": "code",
   "execution_count": null,
   "id": "34b68fce",
   "metadata": {},
   "outputs": [],
   "source": [
    "df.createTempView('tb_temp')"
   ]
  },
  {
   "cell_type": "code",
   "execution_count": 84,
   "id": "a1a70d49",
   "metadata": {},
   "outputs": [
    {
     "name": "stdout",
     "output_type": "stream",
     "text": [
      "+--------------------+\n",
      "|                nome|\n",
      "+--------------------+\n",
      "|AAMANDA MARIA FRE...|\n",
      "|AAMANDA MARIA FRE...|\n",
      "|AAMANDA MARIA FRE...|\n",
      "+--------------------+\n",
      "\n"
     ]
    }
   ],
   "source": [
    "spark.sql(\"select nome from tb_temp where nome like '%AMANDA%' \").show(5)"
   ]
  },
  {
   "cell_type": "code",
   "execution_count": 85,
   "id": "d38dd15a",
   "metadata": {},
   "outputs": [
    {
     "name": "stdout",
     "output_type": "stream",
     "text": [
      "+--------------------+\n",
      "|                nome|\n",
      "+--------------------+\n",
      "|AAMANDA MARIA FRE...|\n",
      "+--------------------+\n",
      "\n"
     ]
    }
   ],
   "source": [
    "spark.sql(\"select Distinct nome from tb_temp where nome like '%AMANDA%' \").show(5)"
   ]
  },
  {
   "cell_type": "code",
   "execution_count": 87,
   "id": "abd1710a",
   "metadata": {},
   "outputs": [
    {
     "name": "stdout",
     "output_type": "stream",
     "text": [
      "+--------------------+\n",
      "|                nome|\n",
      "+--------------------+\n",
      "|ABDIAS CABRAL DO ...|\n",
      "|ABDIAS ANTONIO DA...|\n",
      "|ABDIAS BRENNICHI ...|\n",
      "|ABDIAS GUILHERMIN...|\n",
      "|AARNON PRESLEY XA...|\n",
      "+--------------------+\n",
      "only showing top 5 rows\n",
      "\n"
     ]
    }
   ],
   "source": [
    "spark.sql(\"select Distinct nome from tb_temp where dose in ('1')\").show(5)"
   ]
  },
  {
   "cell_type": "code",
   "execution_count": null,
   "id": "feb553a6",
   "metadata": {},
   "outputs": [],
   "source": []
  }
 ],
 "metadata": {
  "kernelspec": {
   "display_name": "Python 3 (ipykernel)",
   "language": "python",
   "name": "python3"
  },
  "language_info": {
   "codemirror_mode": {
    "name": "ipython",
    "version": 3
   },
   "file_extension": ".py",
   "mimetype": "text/x-python",
   "name": "python",
   "nbconvert_exporter": "python",
   "pygments_lexer": "ipython3",
   "version": "3.9.7"
  }
 },
 "nbformat": 4,
 "nbformat_minor": 5
}
