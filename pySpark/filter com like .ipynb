{
 "cells": [
  {
   "cell_type": "code",
   "execution_count": 6,
   "id": "af9377c6",
   "metadata": {},
   "outputs": [],
   "source": [
    "from pyspark.sql import SparkSession \n",
    "spark = SparkSession.builder.master(\"local\").appName(\"App\").getOrCreate()"
   ]
  },
  {
   "cell_type": "code",
   "execution_count": 7,
   "id": "58923327",
   "metadata": {},
   "outputs": [
    {
     "name": "stderr",
     "output_type": "stream",
     "text": [
      "                                                                                \r"
     ]
    }
   ],
   "source": [
    "dfraw = (spark\n",
    "          .read\n",
    "          .format(\"csv\")\n",
    "          .option(\"header\",\"true\")\n",
    "          .option(\"inferSchema\",\"true\")\n",
    "          .option(\"delimiter\",\";\")\n",
    "          .load(\"vacinados.csv\"))"
   ]
  },
  {
   "cell_type": "markdown",
   "id": "1f829ce1",
   "metadata": {},
   "source": [
    "### select de colunas "
   ]
  },
  {
   "cell_type": "code",
   "execution_count": 15,
   "id": "828488f3",
   "metadata": {},
   "outputs": [
    {
     "name": "stdout",
     "output_type": "stream",
     "text": [
      "+--------------------+---------+\n",
      "|                nome|     sexo|\n",
      "+--------------------+---------+\n",
      "|AABAN VASCONCELOS...|MASCULINO|\n",
      "|AABAN VASCONCELOS...|MASCULINO|\n",
      "|AAMANDA MARIA FRE...| FEMININO|\n",
      "|AAMANDA MARIA FRE...| FEMININO|\n",
      "|AAMANDA MARIA FRE...| FEMININO|\n",
      "+--------------------+---------+\n",
      "only showing top 5 rows\n",
      "\n"
     ]
    }
   ],
   "source": [
    "dfraw.select('nome','sexo').show(5)"
   ]
  },
  {
   "cell_type": "markdown",
   "id": "a2a62ac4",
   "metadata": {},
   "source": [
    "### Filter com LIKE"
   ]
  },
  {
   "cell_type": "code",
   "execution_count": 34,
   "id": "3ea6e229",
   "metadata": {},
   "outputs": [
    {
     "name": "stdout",
     "output_type": "stream",
     "text": [
      "+--------------------+--------+\n",
      "|                nome|    sexo|\n",
      "+--------------------+--------+\n",
      "|AAMANDA MARIA FRE...|FEMININO|\n",
      "|AAMANDA MARIA FRE...|FEMININO|\n",
      "|AAMANDA MARIA FRE...|FEMININO|\n",
      "|AANA JULIA RAMOS ...|FEMININO|\n",
      "|AANA MAYARA DA SI...|FEMININO|\n",
      "+--------------------+--------+\n",
      "only showing top 5 rows\n",
      "\n"
     ]
    }
   ],
   "source": [
    "#também pode usar where no lugar de filtter\n",
    "dfraw.select(f.col('nome'),f.col('sexo')).filter(\"sexo like 'F%'\").show(5)"
   ]
  },
  {
   "cell_type": "code",
   "execution_count": null,
   "id": "f823aa85",
   "metadata": {},
   "outputs": [],
   "source": []
  }
 ],
 "metadata": {
  "kernelspec": {
   "display_name": "Python 3 (ipykernel)",
   "language": "python",
   "name": "python3"
  },
  "language_info": {
   "codemirror_mode": {
    "name": "ipython",
    "version": 3
   },
   "file_extension": ".py",
   "mimetype": "text/x-python",
   "name": "python",
   "nbconvert_exporter": "python",
   "pygments_lexer": "ipython3",
   "version": "3.9.7"
  }
 },
 "nbformat": 4,
 "nbformat_minor": 5
}
