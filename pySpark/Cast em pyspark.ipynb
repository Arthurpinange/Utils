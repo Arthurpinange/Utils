{
 "cells": [
  {
   "cell_type": "code",
   "execution_count": 6,
   "id": "c2c951e9",
   "metadata": {},
   "outputs": [],
   "source": [
    "from pyspark.sql import SparkSession \n",
    "spark = SparkSession.builder.master(\"local\").appName(\"App\").getOrCreate()"
   ]
  },
  {
   "cell_type": "code",
   "execution_count": 7,
   "id": "e5a51831",
   "metadata": {},
   "outputs": [
    {
     "name": "stderr",
     "output_type": "stream",
     "text": [
      "                                                                                \r"
     ]
    }
   ],
   "source": [
    "dfraw = (spark\n",
    "          .read\n",
    "          .format(\"csv\")\n",
    "          .option(\"header\",\"true\")\n",
    "          .option(\"inferSchema\",\"true\")\n",
    "          .option(\"delimiter\",\";\")\n",
    "          .load(\"vacinados.csv\"))"
   ]
  },
  {
   "cell_type": "markdown",
   "id": "0733a1cf",
   "metadata": {},
   "source": [
    "### cast para modificar campo string para data"
   ]
  },
  {
   "cell_type": "code",
   "execution_count": 49,
   "id": "2db2fc64",
   "metadata": {},
   "outputs": [
    {
     "data": {
      "text/plain": [
       "DataFrame[data_vacinacao: date]"
      ]
     },
     "execution_count": 49,
     "metadata": {},
     "output_type": "execute_result"
    }
   ],
   "source": [
    "import pyspark.sql.functions as f\n",
    "dfraw.select(f.col('data_vacinacao').cast('date'))\n"
   ]
  },
  {
   "cell_type": "markdown",
   "id": "cfbc3df8",
   "metadata": {},
   "source": [
    "### Castt usando expressão sql, essa forma permite usar sql expresion bom para outras operações"
   ]
  },
  {
   "cell_type": "code",
   "execution_count": 51,
   "id": "6a959eb2",
   "metadata": {},
   "outputs": [
    {
     "data": {
      "text/plain": [
       "DataFrame[data_vacinacao: date]"
      ]
     },
     "execution_count": 51,
     "metadata": {},
     "output_type": "execute_result"
    }
   ],
   "source": [
    "dfraw.selectExpr('cast(data_vacinacao as date)')"
   ]
  },
  {
   "cell_type": "code",
   "execution_count": null,
   "id": "69b214f6",
   "metadata": {},
   "outputs": [],
   "source": []
  }
 ],
 "metadata": {
  "kernelspec": {
   "display_name": "Python 3 (ipykernel)",
   "language": "python",
   "name": "python3"
  },
  "language_info": {
   "codemirror_mode": {
    "name": "ipython",
    "version": 3
   },
   "file_extension": ".py",
   "mimetype": "text/x-python",
   "name": "python",
   "nbconvert_exporter": "python",
   "pygments_lexer": "ipython3",
   "version": "3.9.7"
  }
 },
 "nbformat": 4,
 "nbformat_minor": 5
}
