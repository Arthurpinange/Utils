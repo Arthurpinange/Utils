{
 "cells": [
  {
   "cell_type": "code",
   "execution_count": 33,
   "id": "b0530023",
   "metadata": {},
   "outputs": [],
   "source": [
    "from pyspark.sql import SparkSession \n",
    "import pyspark.sql.functions as f\n",
    "from pyspark.sql.functions import StringType\n",
    "spark = SparkSession.builder.master(\"local\").appName(\"App\").getOrCreate()\n",
    "\n"
   ]
  },
  {
   "cell_type": "code",
   "execution_count": 2,
   "id": "b3d30fcb",
   "metadata": {},
   "outputs": [
    {
     "name": "stderr",
     "output_type": "stream",
     "text": [
      "                                                                                \r"
     ]
    }
   ],
   "source": [
    "df = (spark\n",
    "          .read\n",
    "          .format(\"csv\")\n",
    "          .option(\"header\",\"true\")\n",
    "          .option(\"inferSchema\",\"true\")\n",
    "          .option(\"delimiter\",\";\")\n",
    "          .load(\"vacinados.csv\"))"
   ]
  },
  {
   "cell_type": "code",
   "execution_count": null,
   "id": "90840bbd",
   "metadata": {},
   "outputs": [],
   "source": [
    "df.createTempView('tb_temp')"
   ]
  },
  {
   "cell_type": "markdown",
   "id": "dd79f660",
   "metadata": {},
   "source": [
    "## Group By"
   ]
  },
  {
   "cell_type": "code",
   "execution_count": 96,
   "id": "faa3ecd3",
   "metadata": {},
   "outputs": [
    {
     "name": "stdout",
     "output_type": "stream",
     "text": [
      "root\n",
      " |-- pf: string (nullable = true)\n",
      " |-- nome: string (nullable = true)\n",
      " |-- sexo: string (nullable = true)\n",
      " |-- grupo: string (nullable = true)\n",
      " |-- vacina: string (nullable = true)\n",
      " |-- lote: string (nullable = true)\n",
      " |-- dose: integer (nullable = true)\n",
      " |-- data_vacinacao: string (nullable = true)\n",
      " |-- local_vacinacao: string (nullable = true)\n",
      "\n"
     ]
    }
   ],
   "source": [
    "df.printSchema()"
   ]
  },
  {
   "cell_type": "code",
   "execution_count": 98,
   "id": "c199eefd",
   "metadata": {},
   "outputs": [
    {
     "name": "stdout",
     "output_type": "stream",
     "text": [
      "+---------+----+\n",
      "|     sexo|dose|\n",
      "+---------+----+\n",
      "| FEMININO|   3|\n",
      "|   OUTROS|   2|\n",
      "|MASCULINO|   2|\n",
      "| FEMININO|   2|\n",
      "|MASCULINO|   1|\n",
      "|   OUTROS|   1|\n",
      "| FEMININO|   1|\n",
      "|MASCULINO|   3|\n",
      "+---------+----+\n",
      "\n"
     ]
    }
   ],
   "source": [
    "spark.sql('select sexo, dose from tb_temp group by sexo, dose').show()"
   ]
  },
  {
   "cell_type": "code",
   "execution_count": 100,
   "id": "225e8252",
   "metadata": {},
   "outputs": [
    {
     "name": "stdout",
     "output_type": "stream",
     "text": [
      "+---------+--------+\n",
      "|     sexo|count(1)|\n",
      "+---------+--------+\n",
      "|MASCULINO|     245|\n",
      "|   OUTROS|       2|\n",
      "| FEMININO|      30|\n",
      "+---------+--------+\n",
      "\n"
     ]
    }
   ],
   "source": [
    "spark.sql('select sexo, count(*) from tb_temp group by sexo').show()"
   ]
  },
  {
   "cell_type": "code",
   "execution_count": 101,
   "id": "0cbf5a6b",
   "metadata": {},
   "outputs": [
    {
     "name": "stdout",
     "output_type": "stream",
     "text": [
      "+---------+--------+\n",
      "|     sexo|count(1)|\n",
      "+---------+--------+\n",
      "|MASCULINO|     245|\n",
      "| FEMININO|      30|\n",
      "+---------+--------+\n",
      "\n"
     ]
    }
   ],
   "source": [
    "spark.sql('select sexo, count(*) from tb_temp group by sexo having count(*) >5').show()"
   ]
  },
  {
   "cell_type": "code",
   "execution_count": null,
   "id": "0ee0aa9b",
   "metadata": {},
   "outputs": [],
   "source": []
  }
 ],
 "metadata": {
  "kernelspec": {
   "display_name": "Python 3 (ipykernel)",
   "language": "python",
   "name": "python3"
  },
  "language_info": {
   "codemirror_mode": {
    "name": "ipython",
    "version": 3
   },
   "file_extension": ".py",
   "mimetype": "text/x-python",
   "name": "python",
   "nbconvert_exporter": "python",
   "pygments_lexer": "ipython3",
   "version": "3.9.7"
  }
 },
 "nbformat": 4,
 "nbformat_minor": 5
}
