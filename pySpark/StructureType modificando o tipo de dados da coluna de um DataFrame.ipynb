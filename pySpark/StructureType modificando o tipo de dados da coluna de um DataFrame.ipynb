{
 "cells": [
  {
   "cell_type": "code",
   "execution_count": 54,
   "id": "4e2d60f8",
   "metadata": {},
   "outputs": [],
   "source": [
    "from pyspark.sql import SparkSession \n",
    "spark = SparkSession.builder.master(\"local\").appName(\"App\").getOrCreate()\n",
    "import pyspark.sql.functions as f"
   ]
  },
  {
   "cell_type": "markdown",
   "id": "44368007",
   "metadata": {},
   "source": [
    "### vamos modificar o tipo de dados de cada coluna"
   ]
  },
  {
   "cell_type": "code",
   "execution_count": 66,
   "id": "4ccd25d4",
   "metadata": {},
   "outputs": [],
   "source": [
    "from pyspark.sql.types import StructType, StructField, StringType, IntegerType\n"
   ]
  },
  {
   "cell_type": "code",
   "execution_count": 76,
   "id": "a1cad176",
   "metadata": {},
   "outputs": [],
   "source": [
    "# o True determina se é nulo ou nao nulo\n",
    "\n",
    "schema = StructType ([\n",
    "    StructField(\"cpf\",StringType(),True),\n",
    "    StructField(\"nome\",StringType(),True),\n",
    "    StructField(\"sexo\",StringType(),True),\n",
    "    StructField(\"grupo\",StringType(),True),\n",
    "    StructField(\"vacina\",StringType(),True),\n",
    "    StructField(\"lote\",StringType(),True),\n",
    "    StructField(\"dose\",IntegerType(),True),\n",
    "    StructField(\"data_vacinacao\",StringType(),True),\n",
    "    StructField(\"local_vacinacao\",StringType(),True)\n",
    "])"
   ]
  },
  {
   "cell_type": "code",
   "execution_count": 77,
   "id": "5d69a6c3",
   "metadata": {},
   "outputs": [],
   "source": [
    "dfraw = (spark\n",
    "          .read\n",
    "          .format(\"csv\")\n",
    "          .option(\"header\",\"true\")\n",
    "          .option(\"inferSchema\",\"true\")\n",
    "          .option(\"delimiter\",\";\")\n",
    "          .load(\"vacinados.csv\", schema=schema))"
   ]
  },
  {
   "cell_type": "code",
   "execution_count": 78,
   "id": "63f37d09",
   "metadata": {},
   "outputs": [
    {
     "name": "stdout",
     "output_type": "stream",
     "text": [
      "root\n",
      " |-- cpf: string (nullable = true)\n",
      " |-- nome: string (nullable = true)\n",
      " |-- sexo: string (nullable = true)\n",
      " |-- grupo: string (nullable = true)\n",
      " |-- vacina: string (nullable = true)\n",
      " |-- lote: string (nullable = true)\n",
      " |-- dose: integer (nullable = true)\n",
      " |-- data_vacinacao: string (nullable = true)\n",
      " |-- local_vacinacao: string (nullable = true)\n",
      "\n"
     ]
    }
   ],
   "source": [
    "dfraw.printSchema()"
   ]
  },
  {
   "cell_type": "code",
   "execution_count": null,
   "id": "071d54a9",
   "metadata": {},
   "outputs": [],
   "source": []
  }
 ],
 "metadata": {
  "kernelspec": {
   "display_name": "Python 3 (ipykernel)",
   "language": "python",
   "name": "python3"
  },
  "language_info": {
   "codemirror_mode": {
    "name": "ipython",
    "version": 3
   },
   "file_extension": ".py",
   "mimetype": "text/x-python",
   "name": "python",
   "nbconvert_exporter": "python",
   "pygments_lexer": "ipython3",
   "version": "3.9.7"
  }
 },
 "nbformat": 4,
 "nbformat_minor": 5
}
