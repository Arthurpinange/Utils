{
 "cells": [
  {
   "cell_type": "code",
   "execution_count": 33,
   "id": "b0530023",
   "metadata": {},
   "outputs": [],
   "source": [
    "from pyspark.sql import SparkSession \n",
    "import pyspark.sql.functions as f\n",
    "from pyspark.sql.functions import StringType\n",
    "spark = SparkSession.builder.master(\"local\").appName(\"App\").getOrCreate()\n",
    "\n"
   ]
  },
  {
   "cell_type": "code",
   "execution_count": 2,
   "id": "b3d30fcb",
   "metadata": {},
   "outputs": [
    {
     "name": "stderr",
     "output_type": "stream",
     "text": [
      "                                                                                \r"
     ]
    }
   ],
   "source": [
    "df = (spark\n",
    "          .read\n",
    "          .format(\"csv\")\n",
    "          .option(\"header\",\"true\")\n",
    "          .option(\"inferSchema\",\"true\")\n",
    "          .option(\"delimiter\",\";\")\n",
    "          .load(\"vacinados.csv\"))"
   ]
  },
  {
   "cell_type": "markdown",
   "id": "d781d460",
   "metadata": {},
   "source": [
    "## Usando Funções no DataFrame\n",
    "### Manipulando dados linha  alinha com funções"
   ]
  },
  {
   "cell_type": "code",
   "execution_count": 54,
   "id": "94d453fe",
   "metadata": {},
   "outputs": [],
   "source": [
    "# Criando uma funcao para usar posteriormente\n",
    "def upperCase(texto):\n",
    "    return texto.upper()\n",
    "\n",
    "def nomeDose(texto):\n",
    "    if texto ==None:\n",
    "        return 'vazio'\n",
    "    elif texto == '1':\n",
    "        return 'primeira'\n",
    "    else:\n",
    "        return 'ddd'"
   ]
  },
  {
   "cell_type": "code",
   "execution_count": 34,
   "id": "b115e77a",
   "metadata": {},
   "outputs": [
    {
     "data": {
      "text/plain": [
       "<function __main__.upperCase(texto)>"
      ]
     },
     "execution_count": 34,
     "metadata": {},
     "output_type": "execute_result"
    }
   ],
   "source": [
    "# para funcionar no spark é registras a funcao no spark\n",
    "#parametros ('Nome da Funcao para o spark', Funcao criada, tipo de retorno)\n",
    "spark.udf.register(\"upperCase\", upperCase, StringType())\n"
   ]
  },
  {
   "cell_type": "code",
   "execution_count": 39,
   "id": "fe8cdff6",
   "metadata": {},
   "outputs": [
    {
     "name": "stdout",
     "output_type": "stream",
     "text": [
      "+--------------------+--------------------+\n",
      "|                nome|                NOME|\n",
      "+--------------------+--------------------+\n",
      "|AABAN VASCONCELOS...|AABAN VASCONCELOS...|\n",
      "|AABAN VASCONCELOS...|AABAN VASCONCELOS...|\n",
      "|AAMANDA MARIA FRE...|AAMANDA MARIA FRE...|\n",
      "|AAMANDA MARIA FRE...|AAMANDA MARIA FRE...|\n",
      "|AAMANDA MARIA FRE...|AAMANDA MARIA FRE...|\n",
      "+--------------------+--------------------+\n",
      "only showing top 5 rows\n",
      "\n"
     ]
    }
   ],
   "source": [
    "df.select(f.col('nome'), upperCase('nome')).show(5)\n"
   ]
  },
  {
   "cell_type": "code",
   "execution_count": 52,
   "id": "925c4fff",
   "metadata": {},
   "outputs": [
    {
     "name": "stderr",
     "output_type": "stream",
     "text": [
      "21/12/05 20:21:42 WARN SimpleFunctionRegistry: The function nomedose replaced a previously registered function.\n"
     ]
    },
    {
     "data": {
      "text/plain": [
       "<function __main__.nomeDose(texto)>"
      ]
     },
     "execution_count": 52,
     "metadata": {},
     "output_type": "execute_result"
    }
   ],
   "source": [
    "# para funcionar no spark é registras a funcao no spark\n",
    "#parametros ('Nome da Funcao para o spark', Funcao criada, tipo de retorno)\n",
    "spark.udf.register(\"nomeDose\", nomeDose, StringType())"
   ]
  },
  {
   "cell_type": "code",
   "execution_count": null,
   "id": "eee1c7e1",
   "metadata": {},
   "outputs": [],
   "source": [
    "df.select(f.col('dose'), nomeDose('dose'))"
   ]
  }
 ],
 "metadata": {
  "kernelspec": {
   "display_name": "Python 3 (ipykernel)",
   "language": "python",
   "name": "python3"
  },
  "language_info": {
   "codemirror_mode": {
    "name": "ipython",
    "version": 3
   },
   "file_extension": ".py",
   "mimetype": "text/x-python",
   "name": "python",
   "nbconvert_exporter": "python",
   "pygments_lexer": "ipython3",
   "version": "3.9.7"
  }
 },
 "nbformat": 4,
 "nbformat_minor": 5
}
